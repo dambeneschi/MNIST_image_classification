{
 "cells": [
  {
   "cell_type": "markdown",
   "metadata": {
    "_cell_guid": "b1076dfc-b9ad-4769-8c92-a6c4dae69d19",
    "_uuid": "8f2839f25d086af736a60e9eeb907d3b93b6e0e5"
   },
   "source": [
    "# Deep Learning\n",
    "*Using tensorflow 1.5, CUDA 9.0, cuDNN 7.0 on Python 3.6 on a NVIDIA GeForce 920MX graphic card*\n",
    "\n",
    "Comparison of simple and convolutionnal neural networks on the MNIST dataset"
   ]
  },
  {
   "cell_type": "code",
   "execution_count": 2,
   "metadata": {
    "collapsed": true
   },
   "outputs": [],
   "source": [
    "from IPython.display import Image, display"
   ]
  },
  {
   "cell_type": "code",
   "execution_count": 3,
   "metadata": {
    "_cell_guid": "031e63f9-bbdd-4cf8-a1f2-451b0686b8ff",
    "_uuid": "498d8bdd8c8dac878e4490130ba3f43a08dfeb7e",
    "collapsed": true
   },
   "outputs": [],
   "source": [
    "import numpy as np\n",
    "import pandas as pd\n",
    "import matplotlib.pyplot as plt"
   ]
  },
  {
   "cell_type": "markdown",
   "metadata": {},
   "source": [
    "## Simple neural network"
   ]
  },
  {
   "cell_type": "code",
   "execution_count": 36,
   "metadata": {
    "_cell_guid": "79c7e3d0-c299-4dcb-8224-4455121ee9b0",
    "_uuid": "d629ff2d2480ee46fbb7e2d37f6b5fab8052498a",
    "collapsed": true
   },
   "outputs": [],
   "source": [
    "from keras.models import Sequential\n",
    "from keras.layers import Dense\n",
    "from keras.optimizers import SGD\n",
    "from keras.callbacks import EarlyStopping\n",
    "from keras.utils import to_categorical"
   ]
  },
  {
   "cell_type": "code",
   "execution_count": 40,
   "metadata": {
    "_cell_guid": "33ba9b7f-e1f0-4d19-a6c5-e4260dc6483a",
    "_uuid": "b841262893d6ebd5266d289f50070e7490998df6"
   },
   "outputs": [
    {
     "name": "stdout",
     "output_type": "stream",
     "text": [
      "Shapes of predictors and target arrays: (42000, 784) (42000, 10)\n"
     ]
    }
   ],
   "source": [
    "#Loading dataset\n",
    "train = pd.read_csv('train.csv')\n",
    "\n",
    "#Scaling improves the optimization of the neural network\n",
    "predictors = train.drop(columns=['label']).values / 255\n",
    "\n",
    "#Get target variable as dummy variables\n",
    "target = to_categorical(train['label'])\n",
    "\n",
    "print(\"Shapes of predictors and target arrays:\", predictors.shape, target.shape)"
   ]
  },
  {
   "cell_type": "code",
   "execution_count": 41,
   "metadata": {
    "_cell_guid": "af7f3550-38e4-419a-a65f-aa46b5242619",
    "_uuid": "426ea4977ee65a18e11311e354d7c13493d6c584",
    "scrolled": true
   },
   "outputs": [
    {
     "name": "stdout",
     "output_type": "stream",
     "text": [
      "Train on 33600 samples, validate on 8400 samples\n",
      "Epoch 1/5\n",
      "33600/33600 [==============================] - 31s 927us/step - loss: 0.6878 - acc: 0.8046 - val_loss: 0.3536 - val_acc: 0.8979\n",
      "Epoch 2/5\n",
      "33600/33600 [==============================] - 28s 841us/step - loss: 0.3330 - acc: 0.9056 - val_loss: 0.2979 - val_acc: 0.9140\n",
      "Epoch 3/5\n",
      "33600/33600 [==============================] - 29s 876us/step - loss: 0.2913 - acc: 0.9167 - val_loss: 0.2800 - val_acc: 0.9190\n",
      "Epoch 4/5\n",
      "33600/33600 [==============================] - 29s 851us/step - loss: 0.2715 - acc: 0.9229 - val_loss: 0.2733 - val_acc: 0.9258\n",
      "Epoch 5/5\n",
      "33600/33600 [==============================] - 29s 872us/step - loss: 0.2581 - acc: 0.9264 - val_loss: 0.2646 - val_acc: 0.9242\n",
      "Wall time: 2min 27s\n"
     ]
    }
   ],
   "source": [
    "%%time\n",
    "\n",
    "#Creating the neural network model\n",
    "n_cols = predictors.shape[1]\n",
    "\n",
    "model = Sequential()\n",
    "model.add(Dense(10, activation='relu', input_shape=(n_cols,)))  #tanh à essayer !\n",
    "#model.add(Dense(50, activation='relu'))\n",
    "model.add(Dense(10, activation='softmax'))  #10 digits to recognize\n",
    "\n",
    "#Model compiling and fitting\n",
    "model.compile(optimizer='adam', loss='categorical_crossentropy', metrics=['accuracy'])\n",
    "#model.compile(optimizer=SGD(lr=0.01), loss='categorical_crossentropy', metrics=['accuracy'])\n",
    "\n",
    "#Performance monitor\n",
    "early_stopping_monitor = EarlyStopping(patience=3)\n",
    "\n",
    "#Fitting on data\n",
    "model.fit(predictors, target, validation_split=0.2, epochs=5)#, callbacks=[early_stopping_monitor])"
   ]
  },
  {
   "cell_type": "code",
   "execution_count": 15,
   "metadata": {
    "_uuid": "3868a19a652132c7f08bf4af396253a4736e1f29"
   },
   "outputs": [
    {
     "name": "stderr",
     "output_type": "stream",
     "text": [
      "C:\\Users\\Damien\\Anaconda3\\lib\\site-packages\\sklearn\\utils\\validation.py:475: DataConversionWarning: Data with input dtype int64 was converted to float64 by the scale function.\n",
      "  warnings.warn(msg, DataConversionWarning)\n"
     ]
    },
    {
     "name": "stdout",
     "output_type": "stream",
     "text": [
      "Submission dataset shape:  (28000, 784)\n",
      "Predictions shape (contains pseudo-probabilities for each digit type) : (28000, 10)\n",
      "20 first predictions on the submission digits: \n",
      "     label\n",
      "0       2\n",
      "1       0\n",
      "2       9\n",
      "3       9\n",
      "4       3\n",
      "5       7\n",
      "6       0\n",
      "7       3\n",
      "8       0\n",
      "9       3\n",
      "10      5\n",
      "11      7\n",
      "12      4\n",
      "13      0\n",
      "14      4\n",
      "15      5\n",
      "16      3\n",
      "17      1\n",
      "18      9\n",
      "19      0\n"
     ]
    },
    {
     "data": {
      "image/png": "[encoded data removed]",
      "text/plain": [
       "<Figure size 432x288 with 20 Axes>"
      ]
     },
     "metadata": {},
     "output_type": "display_data"
    }
   ],
   "source": [
    "#Prepare the submission dataset\n",
    "test = pd.read_csv('test.csv')\n",
    "submission = test.values / 255\n",
    "print(\"Submission dataset shape: \", submission.shape)\n",
    "\n",
    "#Make predictions on the test set\n",
    "predictions = model.predict(submission)  #Contains probabilities for each 10 digits\n",
    "print(\"Predictions shape (contains pseudo-probabilities for each digit type) :\", predictions.shape)\n",
    "\n",
    "#Creating the submission dataframe\n",
    "submission_df = pd.DataFrame(predictions)\n",
    "submission_df['ImageId'] = pd.Series(range(1, 28001))\n",
    "#Take the corresponding column label for the max value (probability) of the row\n",
    "submission_df['label'] = submission_df.drop(columns=['ImageId']).idxmax(1)\n",
    "print(\"20 first predictions on the submission digits: \\n\", submission_df[['label']].head(20))\n",
    "\n",
    "#Print the 10 first images of the submission dataset\n",
    "images_subset = test.iloc[:20, :]\n",
    "for i, row in images_subset.iterrows():\n",
    "    plt.subplot(2, 10, i+1)\n",
    "    pixels = row.values.reshape((28,28))\n",
    "    plt.imshow(pixels, cmap='gray')\n",
    "    plt.xticks([])\n",
    "    plt.yticks([])\n",
    "plt.title('20 first images from the submission dataset')\n",
    "plt.show()"
   ]
  },
  {
   "cell_type": "code",
   "execution_count": 60,
   "metadata": {
    "_uuid": "63ab6a3ae3c9fa998bfc4042cc4530e0f6c06503",
    "collapsed": true
   },
   "outputs": [],
   "source": [
    "#Save the submission as csv\n",
    "submission_df.loc[:, ['ImageId', 'label']].to_csv('submission_deeplearning_DB.csv', index=False)"
   ]
  },
  {
   "cell_type": "markdown",
   "metadata": {
    "_uuid": "3113e81d46f1bbfd97b44444c699109ee76bdc3e",
    "collapsed": true
   },
   "source": [
    "## Convolutionnal Neural Network"
   ]
  },
  {
   "cell_type": "code",
   "execution_count": 4,
   "metadata": {
    "_cell_guid": "79c7e3d0-c299-4dcb-8224-4455121ee9b0",
    "_uuid": "d629ff2d2480ee46fbb7e2d37f6b5fab8052498a"
   },
   "outputs": [],
   "source": [
    "from keras.models import Sequential\n",
    "from keras.layers import Dense, Conv2D, Flatten, Dropout\n",
    "from keras.optimizers import SGD\n",
    "from keras.callbacks import EarlyStopping\n",
    "from keras.utils import to_categorical"
   ]
  },
  {
   "cell_type": "code",
   "execution_count": 5,
   "metadata": {
    "_cell_guid": "33ba9b7f-e1f0-4d19-a6c5-e4260dc6483a",
    "_uuid": "b841262893d6ebd5266d289f50070e7490998df6"
   },
   "outputs": [
    {
     "name": "stdout",
     "output_type": "stream",
     "text": [
      "Shapes of predictors and target arrays: (42000, 28, 28, 1) (42000, 10)\n"
     ]
    }
   ],
   "source": [
    "#Loading dataset\n",
    "train = pd.read_csv('train.csv')\n",
    "\n",
    "#Reshape the data as images 28x28 pixels\n",
    "predictors = train.drop(columns=['label']).values.reshape(42000, 28,28,1)\n",
    "#Scaling improves the optimization of the neural network\n",
    "predictors = predictors / 255\n",
    "\n",
    "#Get target variable as dummy variables\n",
    "target = to_categorical(train['label'])\n",
    "\n",
    "print(\"Shapes of predictors and target arrays:\", predictors.shape, target.shape)"
   ]
  },
  {
   "cell_type": "code",
   "execution_count": 6,
   "metadata": {
    "collapsed": true
   },
   "outputs": [],
   "source": [
    "#Building of the neural network\n",
    "cnn = Sequential()\n",
    "#Input layer\n",
    "cnn.add(Conv2D(30, kernel_size=(2,2), activation='relu', input_shape=(28,28,1)))\n",
    "#Additional convolutional layers\n",
    "cnn.add(Conv2D(30, kernel_size=(2,2), activation='relu'))\n",
    "#Dropout layer to avoid overfitting\n",
    "cnn.add(Dropout(0.5))\n",
    "cnn.add(Conv2D(30, kernel_size=(2,2), activation='relu'))\n",
    "cnn.add(Dropout(0.5))\n",
    "cnn.add(Conv2D(30, kernel_size=(2,2), activation='relu'))\n",
    "cnn.add(Dropout(0.5))\n",
    "cnn.add(Conv2D(30, kernel_size=(2,2), activation='relu'))\n",
    "cnn.add(Dropout(0.5))\n",
    "#Flattening of the convolutionnal layer\n",
    "cnn.add(Flatten())\n",
    "#Dense layer between the flattening and output layers\n",
    "cnn.add(Dense(200, activation='relu'))\n",
    "#Output layer for 10 digits with probability values\n",
    "cnn.add(Dense(10, activation='softmax'))\n",
    "\n",
    "#Compile the model\n",
    "cnn.compile(optimizer='adam', loss='categorical_crossentropy', metrics=['accuracy'])"
   ]
  },
  {
   "cell_type": "code",
   "execution_count": null,
   "metadata": {},
   "outputs": [
    {
     "name": "stdout",
     "output_type": "stream",
     "text": [
      "Train on 33600 samples, validate on 8400 samples\n",
      "Epoch 1/20\n",
      "33600/33600 [==============================] - 132s 4ms/step - loss: 0.1970 - acc: 0.9419 - val_loss: 0.0660 - val_acc: 0.9788\n",
      "Epoch 2/20\n",
      "33600/33600 [==============================] - 121s 4ms/step - loss: 0.0577 - acc: 0.9818 - val_loss: 0.0593 - val_acc: 0.9826\n",
      "Epoch 3/20\n",
      " 4608/33600 [===>..........................] - ETA: 1:39 - loss: 0.0381 - acc: 0.9885"
     ]
    }
   ],
   "source": [
    "%%time\n",
    "\n",
    "#Training of the model\n",
    "early_stopping_monitor = EarlyStopping(patience=3)\n",
    "cnn.fit(predictors, target, validation_split=0.2, epochs=20, callbacks=[early_stopping_monitor] )"
   ]
  },
  {
   "cell_type": "code",
   "execution_count": 49,
   "metadata": {
    "_uuid": "3868a19a652132c7f08bf4af396253a4736e1f29"
   },
   "outputs": [
    {
     "name": "stdout",
     "output_type": "stream",
     "text": [
      "Submission dataset shape:  (28000, 784)\n",
      "Predictions shape (contains pseudo-probabilities for each digit type) : (28000, 10)\n",
      "20 first predictions on the submission digits: \n",
      "     label\n",
      "0       2\n",
      "1       0\n",
      "2       9\n",
      "3       4\n",
      "4       3\n",
      "5       7\n",
      "6       0\n",
      "7       3\n",
      "8       0\n",
      "9       3\n",
      "10      5\n",
      "11      7\n",
      "12      4\n",
      "13      0\n",
      "14      4\n",
      "15      3\n",
      "16      3\n",
      "17      1\n",
      "18      9\n",
      "19      0\n"
     ]
    },
    {
     "data": {
      "image/png": "[encoded data removed]",
      "text/plain": [
       "<Figure size 432x288 with 20 Axes>"
      ]
     },
     "metadata": {},
     "output_type": "display_data"
    }
   ],
   "source": [
    "#Prepare the submission dataset\n",
    "test = pd.read_csv('test.csv')\n",
    "submission = test.values..reshape(len(test), 28,28,1) / 255\n",
    "print(\"Submission dataset shape: \", submission.shape)\n",
    "\n",
    "#Make predictions on the test set\n",
    "predictions = model.predict(submission)  #Contains probabilities for each 10 digits\n",
    "print(\"Predictions shape (contains pseudo-probabilities for each digit type) :\", predictions.shape)\n",
    "\n",
    "#Creating the submission dataframe\n",
    "submission_df = pd.DataFrame(predictions)\n",
    "submission_df['ImageId'] = pd.Series(range(1, 28001))\n",
    "#Take the corresponding column label for the max value (probability) of the row\n",
    "submission_df['label'] = submission_df.drop(columns=['ImageId']).idxmax(1)\n",
    "print(\"20 first predictions on the submission digits: \\n\", submission_df[['label']].head(20))\n",
    "\n",
    "#Print the 10 first images of the submission dataset\n",
    "images_subset = test.iloc[:20, :]\n",
    "for i, row in images_subset.iterrows():\n",
    "    plt.subplot(2, 10, i+1)\n",
    "    pixels = row.values.reshape((28,28))\n",
    "    plt.imshow(pixels, cmap='gray')\n",
    "    plt.xticks([])\n",
    "    plt.yticks([])\n",
    "plt.title('20 first images from the submission dataset')\n",
    "plt.show()"
   ]
  },
  {
   "cell_type": "code",
   "execution_count": 50,
   "metadata": {
    "_uuid": "63ab6a3ae3c9fa998bfc4042cc4530e0f6c06503",
    "collapsed": true
   },
   "outputs": [],
   "source": [
    "#Save the submission as csv\n",
    "submission_df.loc[:, ['ImageId', 'label']].to_csv('submission_deeplearning_DB.csv', index=False)"
   ]
  },
  {
   "cell_type": "code",
   "execution_count": null,
   "metadata": {
    "collapsed": true
   },
   "outputs": [],
   "source": []
  }
 ],
 "metadata": {
  "kernelspec": {
   "display_name": "Python 3",
   "language": "python",
   "name": "python3"
  },
  "language_info": {
   "codemirror_mode": {
    "name": "ipython",
    "version": 3
   },
   "file_extension": ".py",
   "mimetype": "text/x-python",
   "name": "python",
   "nbconvert_exporter": "python",
   "pygments_lexer": "ipython3",
   "version": "3.6.4"
  }
 },
 "nbformat": 4,
 "nbformat_minor": 1
}
